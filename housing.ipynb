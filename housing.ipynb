{
 "cells": [
  {
   "cell_type": "markdown",
   "id": "b183f554-5e3e-4bf3-b0e9-d77e6680ae77",
   "metadata": {},
   "source": [
    "Udacity <a href=\"https://learn.udacity.com/nanodegrees/nd025/parts/cd1971/lessons/e3f2b25a-5e8a-404f-a1f8-18c3524ce867/concepts/e3f2b25a-5e8a-404f-a1f8-18c3524ce867-project-rubric\">Rubric</a>\n"
   ]
  },
  {
   "cell_type": "code",
   "execution_count": null,
   "id": "a1fe2dba-edcf-4fe3-8e5f-1df1623a73cd",
   "metadata": {},
   "outputs": [],
   "source": [
    "# imports\n",
    "import time\n",
    "import warnings\n",
    "\n",
    "import matplotlib.pyplot as plt\n",
    "import numpy as np\n",
    "import pandas as pd\n",
    "import seaborn as sns\n",
    "from sklearn.compose import ColumnTransformer\n",
    "from sklearn.decomposition import PCA\n",
    "from sklearn.ensemble import RandomForestRegressor\n",
    "from sklearn.impute import SimpleImputer\n",
    "from sklearn.linear_model import Lasso\n",
    "from sklearn.metrics import mean_squared_error, r2_score\n",
    "from sklearn.model_selection import GridSearchCV, RandomizedSearchCV, train_test_split\n",
    "from sklearn.pipeline import Pipeline\n",
    "from sklearn.preprocessing import OrdinalEncoder  # for dealing with ordinal categories\n",
    "from sklearn.preprocessing import (\n",
    "    TargetEncoder,  # for dealing with high cardinal categories, for now use one-hot encoder\n",
    ")\n",
    "from sklearn.preprocessing import OneHotEncoder, StandardScaler\n",
    "from sklearn.svm import LinearSVR\n",
    "\n",
    "%matplotlib inline\n",
    "\n",
    "\n",
    "warnings.simplefilter(action=\"ignore\", category=FutureWarning)"
   ]
  },
  {
   "cell_type": "markdown",
   "id": "9121af57-8f97-4049-bf65-d489ec23468c",
   "metadata": {},
   "source": [
    "# Business Understanding"
   ]
  },
  {
   "cell_type": "markdown",
   "id": "1b5e14cd-c5a0-4de6-b079-dc5a5acfc1f7",
   "metadata": {},
   "source": [
    "## Project Overview"
   ]
  },
  {
   "cell_type": "markdown",
   "id": "e0ba5a00-a36a-4d1d-bdf7-109866fcbbaf",
   "metadata": {},
   "source": [
    "This project will explore the Kaggle housing dataset.  "
   ]
  },
  {
   "cell_type": "markdown",
   "id": "49ebe82c-d31e-43e0-9181-2d0670f1d349",
   "metadata": {},
   "source": [
    "## Problem Statement"
   ]
  },
  {
   "cell_type": "markdown",
   "id": "82f6d9ba-ced4-4714-98c7-2ee46e83598a",
   "metadata": {},
   "source": [
    "Explore how various feature selection methods influence predicted housing prices.\n",
    "\n",
    "Questions to be answered in this project:\n",
    "* What is the prediction score of a baseline simple linear regression model using all PCA components plus all original components? i.e. the case of no feature selection.\n",
    "<br>\n",
    "<br>\n",
    "* Can some other simple linear regression models that contain feature select perform better such as:\n",
    "    * Lasso\n",
    "    * LassoCV\n",
    "    * Linear Regression with select Kbest\n",
    "<br>\n",
    "<br>\n",
    "* Can a more complex Random Forest Regressor model baseline w/out feature selection perform better than the more simple linear regression models? Baseline features will be PCA components plus all original components which is the same as the above simple linear regression.\n",
    "<br>\n",
    "<br>\n",
    "* What happens when we apply various feature selection to the Random Forest Regressor? Does the model improve?\n",
    "<br>\n",
    "<br>\n",
    "* Which model performed the best overall across all tested models?\n",
    "<br>\n",
    "<br>\n",
    "* What insights can be made regarding how feature selection has impacted our prediction scores?\n",
    "<br>\n",
    "<br>\n",
    "My hypothesis is that the best performing model overall will be the Random Forest Regressor with some kind of feature selection algorithm.  I think the Random Forest model will score better overall due to it being a more sophisticated model as compared to Linear Regression.  And I believe feature selection will further improve the performance as it will help prevent the Random Forest model from overfitting the training data."
   ]
  },
  {
   "cell_type": "markdown",
   "id": "7999081a-4454-4b05-bf3b-eac6a0e824ce",
   "metadata": {},
   "source": [
    "## Metric"
   ]
  },
  {
   "cell_type": "markdown",
   "id": "5e7ca2d6-f87c-4e69-9839-d09a14073b69",
   "metadata": {},
   "source": [
    "The metric that will be used to evaluate all models is the Root Mean Squared Error (RMSE) between the logarithm of the predicted value and the logarithm of the observed sales price.  As Kaggle notes taking the logs means that the errors in predicting expensive houses and cheap houses will affect the results equally.\n",
    "\n",
    "Further comparisons will be made between the RMSE of the training data vs the testing data for the different complexities of the models."
   ]
  },
  {
   "cell_type": "markdown",
   "id": "d97a01b7-af5f-407c-8b67-ee76e0ef2a88",
   "metadata": {},
   "source": [
    "# Data Understanding"
   ]
  },
  {
   "cell_type": "markdown",
   "id": "b079c6d2-26a1-45ee-b0bd-6da275fa28b6",
   "metadata": {},
   "source": [
    "# Data Preparation"
   ]
  },
  {
   "cell_type": "markdown",
   "id": "74893365-e81c-4da7-be40-ec26186300a2",
   "metadata": {},
   "source": [
    "# Data Modeling"
   ]
  },
  {
   "cell_type": "markdown",
   "id": "3a3a97f0-003a-40fd-adf5-20673aa4aa1c",
   "metadata": {},
   "source": [
    "# Result Evaluation"
   ]
  },
  {
   "cell_type": "markdown",
   "id": "9ad3aea9-a7b4-44e7-abcf-4f78c796785b",
   "metadata": {},
   "source": [
    "# Deployment"
   ]
  },
  {
   "cell_type": "code",
   "execution_count": null,
   "id": "0634db2c-d923-4594-b7bb-e74852eb5c21",
   "metadata": {},
   "outputs": [],
   "source": []
  }
 ],
 "metadata": {
  "kernelspec": {
   "display_name": "housingh",
   "language": "python",
   "name": "housingm"
  },
  "language_info": {
   "codemirror_mode": {
    "name": "ipython",
    "version": 3
   },
   "file_extension": ".py",
   "mimetype": "text/x-python",
   "name": "python",
   "nbconvert_exporter": "python",
   "pygments_lexer": "ipython3",
   "version": "3.12.2"
  }
 },
 "nbformat": 4,
 "nbformat_minor": 5
}
